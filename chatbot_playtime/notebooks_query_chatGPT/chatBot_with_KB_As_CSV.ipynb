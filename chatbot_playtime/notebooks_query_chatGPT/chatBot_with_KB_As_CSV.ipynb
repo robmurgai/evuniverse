{
 "cells": [
  {
   "cell_type": "markdown",
   "id": "1e28a32e",
   "metadata": {},
   "source": [
    "### Question Answering Over Documents\n",
    "\n",
    "Although LLMs are powerful, they do not know about information they were not trained on. If you want to use an LLM to answer questions about documents it was not trained on, you have to give it information about those documents. \n",
    "\n",
    "The idea is that for every question you want to ask chatGPT, you first do a retrieval step to fetch any relevant documents and then pass those documents, along with the original question, to the language model and have it generate a response. \n",
    "\n",
    "\n",
    "**Procedure:**\n",
    "\n",
    "Prerequisites: \n",
    "- Install Libraries, Import libraries, set API key, and select models and tokenizers for embeddings.\n",
    "\n",
    "Search (once per query)\n",
    "- Given a user question, generate an embedding for the query from the OpenAI API\n",
    "- Using the embeddings, rank the text sections by relevance to the query\n",
    "\n",
    "Ask (once per query)\n",
    "- Insert the question and the most relevant sections into a message to GPT\n",
    "- Return GPT's answer\n",
    "\n",
    "#### Quality Comparison\n",
    "- This **notebook can** customize\n",
    "    - GPT_MODEL\n",
    "    - TEMP\n",
    "    - PROMPT\n",
    "    - MAX_TOKENS\n",
    "    - KWARGS\n",
    "    - MAX_LENGTH_OF_SUPPORTING_EVIDENCE"
   ]
  },
  {
   "cell_type": "markdown",
   "id": "572ec284",
   "metadata": {},
   "source": [
    "### 1. Prerequisites: \n",
    "\n",
    "Install Libraries, Import libraries, set API key, and select models and tokenizers for embeddings."
   ]
  },
  {
   "cell_type": "markdown",
   "id": "79150682",
   "metadata": {},
   "source": [
    "#### Install Libraries\n",
    "\n",
    "```\n",
    "% pip install --upgrade pip\n",
    "% pip install git+https://github.com/openai/whisper.git\n",
    "```"
   ]
  },
  {
   "cell_type": "code",
   "execution_count": 1,
   "id": "f743f492",
   "metadata": {},
   "outputs": [],
   "source": [
    "# imports\n",
    "import os                  # for accessing files and Env Variables\n",
    "import pandas as pd        # for storing text and embeddings data\n",
    "import openai              # for calling the OpenAI API\n",
    "import tiktoken            # for counting tokens\n",
    "\n",
    "import llama_index                          # for crawling/scraping websites\n",
    "from llama_index import download_loader     # for crawling/scraping websites\n",
    "\n",
    "import numpy as np         # for updatind dataframes in numpy arrays for processing\n",
    "from openai.embeddings_utils import distances_from_embeddings   # for embedding distance calcuation\n",
    "\n",
    "# import json"
   ]
  },
  {
   "cell_type": "markdown",
   "id": "1d039a85",
   "metadata": {},
   "source": [
    "#### Set API Keys\n",
    "\n",
    "The OpenAI library will try to read your API key from the OPENAI_API_KEY environment variable. If you haven't already,find your [API Key](https://platform.openai.com/account/api-keys), and export your API key in your shell configuration file.\n",
    "\n",
    "```\n",
    "echo \"export OPENAI_API_KEY='you-api-key'\" >> ~/.zshrc\n",
    "source ~/.zshrc\n",
    "echo $OPENAI_API_KEY\n",
    "```"
   ]
  },
  {
   "cell_type": "code",
   "execution_count": 2,
   "id": "2d44f5a3",
   "metadata": {},
   "outputs": [],
   "source": [
    "# models, tokenizers & web domains\n",
    "\n",
    "# Chunk: Documents are split into short, semi-self-contained sections to be embedded\n",
    "TOKENIZER = \"cl100k_base\"                   # cl100k_base tokenizer is designed to work with the ada-002 model\n",
    "\n",
    "# Embed: Each section is embedded with the OpenAI API\n",
    "processed_data_dir = \"../processed_data/\"\n",
    "EMBEDDING_MODEL = \"text-embedding-ada-002\"  # OpenAI's best embeddings as of Apr 2023\n",
    "MAX_TOKENS = 1000                            # Max number of tokens in an embedded data Row, 750 tokens is ~1000 words.\n",
    "\n",
    "# Store: Embeddings are saved in a CSV file\n",
    "    \n",
    "# Search (once per query)\n",
    "\n",
    "MAX_LEN_OF_SUPPORTING_EVIDENCE = 2700       # The supporting evidence we send chatGPT with each Query\n",
    "\n",
    "# Ask (once per query)\n",
    "GPT_MODEL = \"gpt-3.5-turbo\"\n",
    "TEST_QUERY = \"Can you give me step by step intructions to integrated with Drift?\"\n",
    "TEMP=0.5\n",
    "PROMPT=\"Answer the question based on the context below, and if the question can't be answered based on the context, say \\\"I don't know\\\"\"\n",
    "URL_PREFIX = \"https://www.evuniverse.com/\"     #For URL of Supporting Evidence\n",
    "DEBUG=False"
   ]
  },
  {
   "cell_type": "markdown",
   "id": "e62d28ef",
   "metadata": {},
   "source": [
    "### 2. Search (once per query)\n",
    "\n",
    "This will take a user's question, create an embedding of it, compare it with the existing embeddings of our KB, retrieve the most relevant text based on the embedding value.\n",
    "\n",
    "- Get the embedding value of the question\n",
    "- Turn the KB embeddings into a NumPy array. This will provide more flexibility in how to use it given the many functions available that operate on NumPy arrays. It will also flatten the dimension to 1-D, which is the required format for many subsequent operations\n",
    "- Identify Supporting Evidence to answer the question based on Embedding.  The search with embeddings compares the vector of numbers (which was the conversion of the raw text) using cosine distance. The vectors are likely related and might be the answer to the question if they are close in cosine distance. \n",
    "\n",
    "\n",
    "The text was broken up into smaller sets of tokens, so looping through in ascending order and continuing to add the text is a critical step to ensure a full answer. The max_len can also be modified to something smaller, if more content than desired is returned.\n",
    "\n",
    "The previous step only retrieved chunks of texts that are semantically related to the question, so they might contain the answer, but there's no guarantee of it. The chance of finding an answer can be further increased by returning the top 5 most likely results."
   ]
  },
  {
   "cell_type": "code",
   "execution_count": 3,
   "id": "59be40e1",
   "metadata": {},
   "outputs": [],
   "source": [
    "# Identify Supporting Evidence to answer the question based on Embedding.  \n",
    "\n",
    "def create_supporting_evidence(question, debug):\n",
    "    \n",
    "    # Turn the KB embeddings into a NumPy array.\n",
    "    df=pd.read_csv(processed_data_dir + '/embeddings.csv', index_col=0)\n",
    "    df['embeddings'] = df['embeddings'].apply(eval).apply(np.array)\n",
    "    \n",
    "    # Get the embeddings for the question\n",
    "    q_embeddings = openai.Embedding.create(input=question, engine=EMBEDDING_MODEL)['data'][0]['embedding']\n",
    "            \n",
    "    # Identify Supporting Evidence to answer the question based on Embedding\n",
    "    max_len=MAX_LEN_OF_SUPPORTING_EVIDENCE\n",
    "\n",
    "    # Get the distances from the embeddings\n",
    "    df['distances'] = distances_from_embeddings(q_embeddings, df['embeddings'].values, distance_metric='cosine')\n",
    "\n",
    "    # print(\"Supporting Evidence Embedding Distances from the Query: \", df['distances'], \"\\n\")\n",
    "    \n",
    "    source_texts = []\n",
    "    source_urls = []\n",
    "    cur_len = 0\n",
    "\n",
    "    # Sort by distance and add the text to the context until the context is too long\n",
    "    for i, row in df.sort_values('distances', ascending=True).iterrows():\n",
    "        # Add the length of the text to the current length\n",
    "        cur_len += row['n_tokens'] + 4\n",
    "\n",
    "        # If the context is too long, break\n",
    "        if cur_len > max_len:\n",
    "            break\n",
    "\n",
    "        # Else add it to the text that is being returned\n",
    "        source_texts.append(row['text'])\n",
    "        source_urls.append(URL_PREFIX + row['title'].strip(\".txt\"))\n",
    "\n",
    "\n",
    "    # Update supporting evidence\n",
    "    suporting_evidence = \"\\n\\n###\\n\\n\".join(source_texts)\n",
    "    suporting_evidence_urls = \"\\n\".join(source_urls)\n",
    "\n",
    "    # Return the context\n",
    "    return suporting_evidence, suporting_evidence_urls"
   ]
  },
  {
   "cell_type": "markdown",
   "id": "76ab4bc7",
   "metadata": {},
   "source": [
    "#### 3. Ask (once per query)\n",
    "- Insert the question and the most relevant sections into a message to GPT\n",
    "- Answer the question based on the most similar supporting evidence\n",
    "\n",
    "The answering prompt will then try to extract the relevant facts from the retrieved contexts, in order to formulate a coherent answer. If there is no relevant answer, the prompt will return “I don’t know”. A realistic sounding answer to the question can be created with the chat completion endpoint using gpt-3.5-turbo."
   ]
  },
  {
   "cell_type": "code",
   "execution_count": 4,
   "id": "6a19a63b",
   "metadata": {},
   "outputs": [],
   "source": [
    "# Insert the question and the most relevant sections into a message to GPT\n",
    "\n",
    "def answerMe(\n",
    "    model=GPT_MODEL,\n",
    "    question=TEST_QUERY,\n",
    "    max_len=MAX_LEN_OF_SUPPORTING_EVIDENCE,\n",
    "    debug=DEBUG,\n",
    "    max_tokens=MAX_TOKENS,\n",
    "    stop_sequence=None,\n",
    "    temperature=TEMP,\n",
    "):\n",
    "    suporting_evidence, suporting_evidence_urls = create_supporting_evidence(question, debug)\n",
    "     \n",
    "    try:\n",
    "        response = openai.ChatCompletion.create(\n",
    "            temperature=temperature,\n",
    "            model=model,\n",
    "            top_p=1,\n",
    "            stop=stop_sequence,\n",
    "            max_tokens=max_tokens,\n",
    "            frequency_penalty=0,\n",
    "            presence_penalty=0,\n",
    "            messages=[\n",
    "                {\"role\": \"system\", \"content\": PROMPT + \"\\n\\nsuporting_evidence: \" + str(suporting_evidence) + \"\\n\\n---\\n\\n\"}, \n",
    "                {\"role\": \"user\", \"content\": str(question)}\n",
    "            ]\n",
    "        )     \n",
    "        \n",
    "        print(response.choices[0].message['content'], \"\\n\")\n",
    "        print(\"URLs For Further Reference:\\n\", suporting_evidence_urls, \"\\n\\n\")\n",
    "        \n",
    "        # If debug, print the raw model response\n",
    "        if debug: \n",
    "            print(\"Question: \", TEST_QUERY, \"\\n\")\n",
    "            print(\"Answer: \", response.choices[0].message['content'], \"\\n\\n\")\n",
    "            print(\"Prompt: \", PROMPT, \"\\n\")        \n",
    "            print(\"Raw Model Response:\\n\", response.choices[0].message, \"\\n\")        \n",
    "            print(\"Suporting Evidence:\\n\" + suporting_evidence)\n",
    "            print(\"\\n\\n\")            \n",
    "    except Exception as e:\n",
    "        print(\"\\n\\n Exception: \", e, \"\\n\")\n",
    "    return \"\""
   ]
  },
  {
   "cell_type": "markdown",
   "id": "b6287470",
   "metadata": {},
   "source": [
    "#### Answer the question based on the most similar supporting evidence\n",
    "It is done! A working Q/A system that has the knowledge embedded from EVUniverse Help Center is now ready. A few quick tests can be done to see the quality of the output:"
   ]
  },
  {
   "cell_type": "code",
   "execution_count": 6,
   "id": "54e4bac0",
   "metadata": {
    "scrolled": true
   },
   "outputs": [
    {
     "name": "stdout",
     "output_type": "stream",
     "text": [
      "I don't know. \n",
      "\n",
      "URLs For Further Reference:\n",
      " https://www.evuniverse.com/gmc-hummer-ev-review\n",
      "https://www.evuniverse.com/ford-evs-gain-access-to-tesla-superchargers \n",
      "\n",
      "\n"
     ]
    },
    {
     "data": {
      "text/plain": [
       "''"
      ]
     },
     "execution_count": 6,
     "metadata": {},
     "output_type": "execute_result"
    }
   ],
   "source": [
    "answerMe(question=\"What is ChatGPT?\")"
   ]
  },
  {
   "cell_type": "code",
   "execution_count": 7,
   "id": "26840125",
   "metadata": {},
   "outputs": [
    {
     "name": "stdout",
     "output_type": "stream",
     "text": [
      "EVUniverse is a website that provides information and resources for people interested in electric vehicles (EVs). You can use it to learn about the costs, availability, and maintenance of EVs, as well as to explore comprehensive listings of EV models. Additionally, you can use EVUniverse to find public EV charging stations and learn how to use them. The website also provides articles and guides on various topics related to EVs, including charging, battery care, and software updates. \n",
      "\n",
      "URLs For Further Reference:\n",
      " https://www.evuniverse.com/are-public-ev-charge-stations-free\n",
      "https://www.evuniverse.com/stay-charged-your-ultimate-guide-to-electric-car-maintenance \n",
      "\n",
      "\n"
     ]
    },
    {
     "data": {
      "text/plain": [
       "''"
      ]
     },
     "execution_count": 7,
     "metadata": {},
     "output_type": "execute_result"
    }
   ],
   "source": [
    "answerMe(question=\"How can I use EVUniverse?\")"
   ]
  },
  {
   "cell_type": "code",
   "execution_count": 8,
   "id": "fa50e34b",
   "metadata": {},
   "outputs": [
    {
     "name": "stdout",
     "output_type": "stream",
     "text": [
      "Based on the context provided, you may want to try reading the article \"Stay Charged: Your Ultimate Guide to Electric Car Maintenance\" on EV Universe. It provides information on maintaining electric cars and is a good starting point for new EV owners. \n",
      "\n",
      "URLs For Further Reference:\n",
      " https://www.evuniverse.com/are-public-ev-charge-stations-free\n",
      "https://www.evuniverse.com/stay-charged-your-ultimate-guide-to-electric-car-maintenance \n",
      "\n",
      "\n"
     ]
    },
    {
     "data": {
      "text/plain": [
       "''"
      ]
     },
     "execution_count": 8,
     "metadata": {},
     "output_type": "execute_result"
    }
   ],
   "source": [
    "answerMe(question=\"I am new to EVUniverse, what should I try next?\")"
   ]
  },
  {
   "cell_type": "code",
   "execution_count": 10,
   "id": "6d2dd4f2",
   "metadata": {},
   "outputs": [
    {
     "name": "stdout",
     "output_type": "stream",
     "text": [
      "Electric car maintenance involves regular checks and care needed to keep the electric vehicle running smoothly and efficiently. This includes tasks such as monitoring charge levels of the battery, checking tire pressure, rotating tires, checking the brake system, maintaining the cooling system, updating the car's software, and paying attention to the electric car charging equipment. While electric cars have fewer moving parts than their gasoline counterparts, they still require regular attention to ensure their high-tech components, particularly the battery and electric motor, continue to function optimally. \n",
      "\n",
      "URLs For Further Reference:\n",
      " https://www.evuniverse.com/stay-charged-your-ultimate-guide-to-electric-car-maintenance\n",
      "https://www.evuniverse.com/are-public-ev-charge-stations-free \n",
      "\n",
      "\n"
     ]
    },
    {
     "data": {
      "text/plain": [
       "''"
      ]
     },
     "execution_count": 10,
     "metadata": {},
     "output_type": "execute_result"
    }
   ],
   "source": [
    "answerMe(question=\"What does electric car maintenance involve?\")"
   ]
  },
  {
   "cell_type": "code",
   "execution_count": 11,
   "id": "5e911db1",
   "metadata": {},
   "outputs": [
    {
     "name": "stdout",
     "output_type": "stream",
     "text": [
      "You can ask any question related to the context provided, such as the cost of public EV charge stations, the availability of EV charge stations, the types of EV charging, the maintenance of electric cars, and more. \n",
      "\n",
      "URLs For Further Reference:\n",
      " https://www.evuniverse.com/are-public-ev-charge-stations-free\n",
      "https://www.evuniverse.com/stay-charged-your-ultimate-guide-to-electric-car-maintenance \n",
      "\n",
      "\n"
     ]
    },
    {
     "data": {
      "text/plain": [
       "''"
      ]
     },
     "execution_count": 11,
     "metadata": {},
     "output_type": "execute_result"
    }
   ],
   "source": [
    "answerMe(question=\"What kind of questions can I ask?\")"
   ]
  },
  {
   "cell_type": "code",
   "execution_count": 9,
   "id": "cf8e4420",
   "metadata": {},
   "outputs": [
    {
     "name": "stdout",
     "output_type": "stream",
     "text": [
      "As more and more people become conscious of the impact that fossil fuels are having on our planet, there is an increasing demand for clean, renewable energy sources that can power our daily lives. One of the most promising solutions to this problem is the electric vehicle (EV), which uses electric motors instead of internal combustion engines to power its wheels. But as with any new technology, there can be confusion and uncertainty about how to use it, which is why EV Universe is here to help. \n",
      "\n",
      "EV Universe is a comprehensive resource for all things electric vehicles, providing information on everything from the best EV models on the market to how to find and use public charging stations. With its intuitive interface and user-friendly approach, EV Universe is the perfect tool for anyone looking to make the switch to electric vehicles. In this blog post, we’ll explore how people can use EV Universe to make the transition to a cleaner, more sustainable future.\n",
      "\n",
      "Choosing the Right EV Model\n",
      "\n",
      "One of the biggest hurdles for anyone considering an EV is simply understanding the different models available and which one would be the best fit for their needs. EV Universe makes this process as easy as possible by providing detailed information on all the latest electric car models, including their specs, features, and pricing. Users can compare different models side by side, read reviews from other EV owners, and even take virtual test drives to get a better sense of how each car handles on the road. This information can be crucial in helping people make informed decisions about which EV to buy.\n",
      "\n",
      "Finding Public Charging Stations\n",
      "\n",
      "One of the most common concerns about EVs is range anxiety – the fear that you’ll run out of power in the middle of a journey. This fear is largely unfounded, as most EVs have plenty of range for everyday driving (often over 200 miles on a single charge). But to alleviate this concern even further, EV Universe also provides maps and listings of public charging stations across the country. Users can search by location, charger type, and even filter for stations that are currently available or have several spots open. With this information at their fingertips, EV owners can plan their routes in advance and feel confident that they’ll never be stranded without power.\n",
      "\n",
      "Charging at Home\n",
      "\n",
      "Another important aspect of EV ownership is charging at home. Many EV models come with a home charger, which can be installed in your garage or driveway to allow for convenient overnight charging. EV Universe provides information on how to install these chargers, what kind of power supply is needed, and how to use them safely and efficiently. In addition, the site provides resources for finding qualified electricians who can help with installation if needed. This can be a great way to save money on fuel costs and stay topped up on power without ever having to visit a public charging station.\n",
      "\n",
      "Making the Transition to EV Life\n",
      "\n",
      "Overall, EV Universe is a valuable resource for anyone interested in making the switch to electric vehicles. By providing information on everything from choosing the right EV to finding public charging stations, EV Universe makes the transition to a cleaner, more sustainable future as easy as possible. Whether you’re a longtime EV owner or just starting to explore the world of electric cars, EV Universe is the perfect guide to help you navigate this exciting new frontier. So why wait? Sign up today and start experiencing the future of transportation for yourself! \n",
      "\n",
      "URLs For Further Reference:\n",
      " https://www.evuniverse.com/gmc-hummer-ev-review\n",
      "https://www.evuniverse.com/are-public-ev-charge-stations-free \n",
      "\n",
      "\n"
     ]
    },
    {
     "data": {
      "text/plain": [
       "''"
      ]
     },
     "execution_count": 9,
     "metadata": {},
     "output_type": "execute_result"
    }
   ],
   "source": [
    "answerMe(question=\"Create a Blog with 2000 words on how people would use EVUniverse\", temperature=1)"
   ]
  }
 ],
 "metadata": {
  "kernelspec": {
   "display_name": "Python 3 (ipykernel)",
   "language": "python",
   "name": "python3"
  },
  "language_info": {
   "codemirror_mode": {
    "name": "ipython",
    "version": 3
   },
   "file_extension": ".py",
   "mimetype": "text/x-python",
   "name": "python",
   "nbconvert_exporter": "python",
   "pygments_lexer": "ipython3",
   "version": "3.10.9"
  }
 },
 "nbformat": 4,
 "nbformat_minor": 5
}
