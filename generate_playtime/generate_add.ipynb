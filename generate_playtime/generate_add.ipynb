{
 "cells": [
  {
   "cell_type": "markdown",
   "id": "572ec284",
   "metadata": {},
   "source": [
    "### 1. Prerequisites: \n",
    "\n",
    "Install Libraries, Import libraries, set API key, and select models and tokenizers for embeddings."
   ]
  },
  {
   "cell_type": "markdown",
   "id": "79150682",
   "metadata": {},
   "source": [
    "#### Install Libraries\n",
    "\n",
    "```\n",
    "% pip install --upgrade pip\n",
    "```"
   ]
  },
  {
   "cell_type": "markdown",
   "id": "1d039a85",
   "metadata": {},
   "source": [
    "#### Set API Keys\n",
    "\n",
    "The OpenAI library will try to read your API key from the OPENAI_API_KEY environment variable. If you haven't already,find your [API Key](https://platform.openai.com/account/api-keys), and export your API key in your shell configuration file.\n",
    "\n",
    "```\n",
    "echo \"export OPENAI_API_KEY='you-api-key'\" >> ~/.zshrc\n",
    "source ~/.zshrc\n",
    "echo $OPENAI_API_KEY\n",
    "```"
   ]
  },
  {
   "cell_type": "code",
   "execution_count": 4,
   "id": "e91b92fa",
   "metadata": {},
   "outputs": [
    {
     "name": "stdout",
     "output_type": "stream",
     "text": [
      "\n",
      "\n",
      "The weather in Cary, NC is Cloudy with a high of 71 degrees and a low of 63 degrees.\n"
     ]
    }
   ],
   "source": [
    "import openai  \n",
    "\n",
    "# Validate API Key\n",
    "# print(\"Your API Key: %s\", openai.api_key)\n",
    "\n",
    "# Generate text\n",
    "prompt = \"What is the weather like in Cary, NC today?\"\n",
    "completions = openai.Completion.create(\n",
    "    engine=\"text-davinci-002\",\n",
    "    prompt=prompt,\n",
    "    max_tokens=1024,\n",
    "    n=1,\n",
    "    stop=None,\n",
    "    temperature=0.5,\n",
    ")\n",
    "\n",
    "# Print the generated text\n",
    "message = completions.choices[0].text\n",
    "print(message)"
   ]
  },
  {
   "cell_type": "code",
   "execution_count": 14,
   "id": "29f0585d",
   "metadata": {},
   "outputs": [
    {
     "name": "stdout",
     "output_type": "stream",
     "text": [
      "The 2020 BMW i4 eDrive35 is a stunning electric car that combines luxury, performance, and sustainability. With its sleek black exterior and bold design, this BMW i4 is sure to turn heads wherever it goes. The car offers a spacious and comfortable interior with seating for four, upholstered in a stylish blue color that adds a touch of elegance. Equipped with all-wheel drive (AWD), this BMW i4 provides exceptional handling and traction on any road surface. As an electric vehicle, the i4 eDrive35 is not only environmentally friendly but also delivers impressive acceleration and a smooth, quiet ride. With its cutting-edge technology and advanced features, the 2020 BMW i4 eDrive35 is a true standout in the world of electric cars. \n",
      "\n",
      "### DEBUG INFO ###\n",
      "Prompt:  Generate a description for a car based on the specifics below \n",
      "\n",
      "Car Information:  Make: BMW, Model: i4, Year: 2020, trim: eDrive35, DriveType: AWD, Seats: 4, Exterior Color: Black, Interior Color: Blue \n",
      "\n",
      "Description:  The 2020 BMW i4 eDrive35 is a stunning electric car that combines luxury, performance, and sustainability. With its sleek black exterior and bold design, this BMW i4 is sure to turn heads wherever it goes. The car offers a spacious and comfortable interior with seating for four, upholstered in a stylish blue color that adds a touch of elegance. Equipped with all-wheel drive (AWD), this BMW i4 provides exceptional handling and traction on any road surface. As an electric vehicle, the i4 eDrive35 is not only environmentally friendly but also delivers impressive acceleration and a smooth, quiet ride. With its cutting-edge technology and advanced features, the 2020 BMW i4 eDrive35 is a true standout in the world of electric cars. \n",
      "\n",
      "\n",
      "Raw Model Response:\n",
      " {\n",
      "  \"content\": \"The 2020 BMW i4 eDrive35 is a stunning electric car that combines luxury, performance, and sustainability. With its sleek black exterior and bold design, this BMW i4 is sure to turn heads wherever it goes. The car offers a spacious and comfortable interior with seating for four, upholstered in a stylish blue color that adds a touch of elegance. Equipped with all-wheel drive (AWD), this BMW i4 provides exceptional handling and traction on any road surface. As an electric vehicle, the i4 eDrive35 is not only environmentally friendly but also delivers impressive acceleration and a smooth, quiet ride. With its cutting-edge technology and advanced features, the 2020 BMW i4 eDrive35 is a true standout in the world of electric cars.\",\n",
      "  \"role\": \"assistant\"\n",
      "} \n",
      "\n",
      "\n",
      "\n",
      "\n"
     ]
    },
    {
     "data": {
      "text/plain": [
       "''"
      ]
     },
     "execution_count": 14,
     "metadata": {},
     "output_type": "execute_result"
    }
   ],
   "source": [
    "# Insert the question and the most relevant sections into a message to GPT\n",
    "import openai\n",
    "\n",
    "\n",
    "GPT_MODEL = \"gpt-3.5-turbo\"\n",
    "MAX_COMPLETION_TOKENS = 4000\n",
    "TEST_INFO = \"Make: BMW, Model: i4, Year: 2020, trim: eDrive35, DriveType: AWD, Seats: 4, Exterior Color: Black, Interior Color: Blue\"\n",
    "TEMP=0.5\n",
    "PROMPT=\"Generate a description for a car based on the specifics below\"\n",
    "DEBUG=False\n",
    "\n",
    "\n",
    "def answerMe(\n",
    "    model=GPT_MODEL,\n",
    "    car_info=TEST_INFO,\n",
    "    max_tokens=MAX_COMPLETION_TOKENS,\n",
    "    stop_sequence=None,\n",
    "    temperature=TEMP,\n",
    "    debug=DEBUG,\n",
    "):\n",
    "     \n",
    "    try:\n",
    "        response = openai.ChatCompletion.create(\n",
    "            temperature=temperature,\n",
    "            model=model,\n",
    "            top_p=1,\n",
    "            stop=stop_sequence,\n",
    "            max_tokens=max_tokens,\n",
    "            frequency_penalty=0,\n",
    "            presence_penalty=0,\n",
    "            messages=[\n",
    "                {\"role\": \"system\", \"content\": PROMPT}, \n",
    "                {\"role\": \"user\", \"content\": str(car_info)}\n",
    "            ]\n",
    "        )     \n",
    "        \n",
    "        print(response.choices[0].message['content'], \"\\n\")\n",
    "        \n",
    "        # If debug, print the raw model response\n",
    "        if debug: \n",
    "            print(\"### DEBUG INFO ###\")\n",
    "            print(\"Prompt: \", PROMPT, \"\\n\")        \n",
    "            print(\"Car Information: \", car_info, \"\\n\")\n",
    "            print(\"Description: \", response.choices[0].message['content'], \"\\n\\n\")\n",
    "            print(\"Raw Model Response:\\n\", response.choices[0].message, \"\\n\")        \n",
    "            print(\"\\n\\n\")            \n",
    "    except Exception as e:\n",
    "        print(\"\\n\\n Exception: \", e, \"\\n\")\n",
    "    return \"\"\n",
    "\n",
    "answerMe(debug=True)"
   ]
  },
  {
   "cell_type": "code",
   "execution_count": null,
   "id": "64672fb0",
   "metadata": {},
   "outputs": [],
   "source": []
  }
 ],
 "metadata": {
  "kernelspec": {
   "display_name": "Python 3 (ipykernel)",
   "language": "python",
   "name": "python3"
  },
  "language_info": {
   "codemirror_mode": {
    "name": "ipython",
    "version": 3
   },
   "file_extension": ".py",
   "mimetype": "text/x-python",
   "name": "python",
   "nbconvert_exporter": "python",
   "pygments_lexer": "ipython3",
   "version": "3.10.9"
  }
 },
 "nbformat": 4,
 "nbformat_minor": 5
}
